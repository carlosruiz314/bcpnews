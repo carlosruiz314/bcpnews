{
 "cells": [
  {
   "cell_type": "markdown",
   "metadata": {},
   "source": [
    "# Bluecap news competition"
   ]
  },
  {
   "cell_type": "markdown",
   "metadata": {},
   "source": [
    "## 1. Setup and basic checks"
   ]
  },
  {
   "cell_type": "markdown",
   "metadata": {},
   "source": [
    "### 1.1. Library version check"
   ]
  },
  {
   "cell_type": "code",
   "execution_count": 1,
   "metadata": {},
   "outputs": [
    {
     "name": "stdout",
     "output_type": "stream",
     "text": [
      "Python: 3.6.4 |Anaconda custom (64-bit)| (default, Jan 16 2018, 10:22:32) [MSC v.1900 64 bit (AMD64)]\n",
      "scipy: 1.0.0\n",
      "numpy: 1.14.0\n",
      "matplotlib: 2.1.2\n",
      "pandas: 0.22.0\n",
      "sklearn: 0.19.1\n"
     ]
    }
   ],
   "source": [
    "# Check the versions of libraries\n",
    "\n",
    "# Python version\n",
    "import sys\n",
    "print('Python: {}'.format(sys.version))\n",
    "# scipy\n",
    "import scipy as sp\n",
    "print('scipy: {}'.format(sp.__version__))\n",
    "# numpy\n",
    "import numpy as np\n",
    "print('numpy: {}'.format(np.__version__))\n",
    "# matplotlib\n",
    "import matplotlib as mpl\n",
    "print('matplotlib: {}'.format(mpl.__version__))\n",
    "# pandas\n",
    "import pandas as pd\n",
    "print('pandas: {}'.format(pd.__version__))\n",
    "# scikit-learn\n",
    "import sklearn as skl\n",
    "print('sklearn: {}'.format(skl.__version__))"
   ]
  },
  {
   "cell_type": "markdown",
   "metadata": {},
   "source": [
    "### 1.2. Load libraries"
   ]
  },
  {
   "cell_type": "code",
   "execution_count": 2,
   "metadata": {},
   "outputs": [],
   "source": [
    "# Load libraries\n",
    "\n",
    "from pandas.plotting import scatter_matrix\n",
    "from sklearn import model_selection\n",
    "from sklearn.metrics import classification_report\n",
    "from sklearn.metrics import confusion_matrix\n",
    "from sklearn.metrics import accuracy_score\n",
    "from sklearn.linear_model import LogisticRegression\n",
    "from sklearn.tree import DecisionTreeClassifier\n",
    "from sklearn.neighbors import KNeighborsClassifier\n",
    "from sklearn.discriminant_analysis import LinearDiscriminantAnalysis\n",
    "from sklearn.naive_bayes import GaussianNB\n",
    "from sklearn.svm import SVC\n",
    "#from itertools import chain\n",
    "import ast\n",
    "import nltk\n",
    "from nltk.corpus import stopwords # Language processing library - stopwords\n",
    "from nltk.tokenize import word_tokenize # Word tokenizer for titles and corpora"
   ]
  },
  {
   "cell_type": "markdown",
   "metadata": {},
   "source": [
    "## 2. Loading the datasets\n",
    "\n",
    "We will be using pandas to read the csv's and do some preliminary data exploration\n",
    "\n"
   ]
  },
  {
   "cell_type": "code",
   "execution_count": 3,
   "metadata": {},
   "outputs": [],
   "source": [
    "trainUrl = \"train.csv\"\n",
    "trainSet = pd.read_csv(trainUrl)\n",
    "\n",
    "testUrl = \"test.csv\"\n",
    "testSet = pd.read_csv(testUrl)"
   ]
  },
  {
   "cell_type": "markdown",
   "metadata": {},
   "source": [
    "## 3. Exploration"
   ]
  },
  {
   "cell_type": "markdown",
   "metadata": {},
   "source": [
    "### 3.1. Shape and raw data"
   ]
  },
  {
   "cell_type": "code",
   "execution_count": 4,
   "metadata": {},
   "outputs": [
    {
     "name": "stdout",
     "output_type": "stream",
     "text": [
      "(14637, 7)\n",
      "(5225, 6)\n"
     ]
    }
   ],
   "source": [
    "# First we will look at the shape of the datasets:\n",
    "\n",
    "print(trainSet.shape)\n",
    "print(testSet.shape)"
   ]
  },
  {
   "cell_type": "code",
   "execution_count": 5,
   "metadata": {},
   "outputs": [
    {
     "data": {
      "text/html": [
       "<div>\n",
       "<style scoped>\n",
       "    .dataframe tbody tr th:only-of-type {\n",
       "        vertical-align: middle;\n",
       "    }\n",
       "\n",
       "    .dataframe tbody tr th {\n",
       "        vertical-align: top;\n",
       "    }\n",
       "\n",
       "    .dataframe thead th {\n",
       "        text-align: right;\n",
       "    }\n",
       "</style>\n",
       "<table border=\"1\" class=\"dataframe\">\n",
       "  <thead>\n",
       "    <tr style=\"text-align: right;\">\n",
       "      <th></th>\n",
       "      <th>id</th>\n",
       "      <th>keywords</th>\n",
       "      <th>summary</th>\n",
       "      <th>title</th>\n",
       "      <th>text</th>\n",
       "      <th>date</th>\n",
       "      <th>flag</th>\n",
       "    </tr>\n",
       "  </thead>\n",
       "  <tbody>\n",
       "    <tr>\n",
       "      <th>0</th>\n",
       "      <td>1</td>\n",
       "      <td>[optimismo, su, banco, tipos, eleva, que, el, ...</td>\n",
       "      <td>Los nueve consejeros del Banco de Inglaterra h...</td>\n",
       "      <td>El Banco de Inglaterra mantiene tipos y eleva ...</td>\n",
       "      <td>Los nueve consejeros del Banco de Inglaterra h...</td>\n",
       "      <td>2016-11-03</td>\n",
       "      <td>0</td>\n",
       "    </tr>\n",
       "    <tr>\n",
       "      <th>1</th>\n",
       "      <td>2</td>\n",
       "      <td>[por, en, hasta, y, su, del, primer, el, que, ...</td>\n",
       "      <td>El primer banco de Italia, que completó con éx...</td>\n",
       "      <td>UniCredit duplica su beneficio en el primer tr...</td>\n",
       "      <td>El primer banco de Italia, que completó con éx...</td>\n",
       "      <td>2017-05-11</td>\n",
       "      <td>1</td>\n",
       "    </tr>\n",
       "    <tr>\n",
       "      <th>2</th>\n",
       "      <td>3</td>\n",
       "      <td>[se, su, que, checa, presenta, todocamino, el,...</td>\n",
       "      <td>Ocupará el lugar del actual Yeti y con él, Sko...</td>\n",
       "      <td>Skoda Karoq: así se presenta el todocamino com...</td>\n",
       "      <td>Ocupará el lugar del actual Yeti y con él, Sko...</td>\n",
       "      <td>2017-04-28</td>\n",
       "      <td>0</td>\n",
       "    </tr>\n",
       "    <tr>\n",
       "      <th>3</th>\n",
       "      <td>4</td>\n",
       "      <td>[y, los, en, la, que, millones, hasta, el, ban...</td>\n",
       "      <td>Bankia obtuvo un beneficio neto atribuido de 4...</td>\n",
       "      <td>Bankia gana el 13,4% menos en el semestre, en ...</td>\n",
       "      <td>Bankia obtuvo un beneficio neto atribuido de 4...</td>\n",
       "      <td>2016-07-22</td>\n",
       "      <td>0</td>\n",
       "    </tr>\n",
       "    <tr>\n",
       "      <th>4</th>\n",
       "      <td>5</td>\n",
       "      <td>[la, coste, su, tres, se, las, consigue, ha, m...</td>\n",
       "      <td>La rentabilidad media en sus bonos a tres años...</td>\n",
       "      <td>El Tesoro consigue colocar a coste cero su deu...</td>\n",
       "      <td>La rentabilidad media en sus bonos a tres años...</td>\n",
       "      <td>2016-05-19</td>\n",
       "      <td>0</td>\n",
       "    </tr>\n",
       "  </tbody>\n",
       "</table>\n",
       "</div>"
      ],
      "text/plain": [
       "   id                                           keywords  \\\n",
       "0   1  [optimismo, su, banco, tipos, eleva, que, el, ...   \n",
       "1   2  [por, en, hasta, y, su, del, primer, el, que, ...   \n",
       "2   3  [se, su, que, checa, presenta, todocamino, el,...   \n",
       "3   4  [y, los, en, la, que, millones, hasta, el, ban...   \n",
       "4   5  [la, coste, su, tres, se, las, consigue, ha, m...   \n",
       "\n",
       "                                             summary  \\\n",
       "0  Los nueve consejeros del Banco de Inglaterra h...   \n",
       "1  El primer banco de Italia, que completó con éx...   \n",
       "2  Ocupará el lugar del actual Yeti y con él, Sko...   \n",
       "3  Bankia obtuvo un beneficio neto atribuido de 4...   \n",
       "4  La rentabilidad media en sus bonos a tres años...   \n",
       "\n",
       "                                               title  \\\n",
       "0  El Banco de Inglaterra mantiene tipos y eleva ...   \n",
       "1  UniCredit duplica su beneficio en el primer tr...   \n",
       "2  Skoda Karoq: así se presenta el todocamino com...   \n",
       "3  Bankia gana el 13,4% menos en el semestre, en ...   \n",
       "4  El Tesoro consigue colocar a coste cero su deu...   \n",
       "\n",
       "                                                text        date  flag  \n",
       "0  Los nueve consejeros del Banco de Inglaterra h...  2016-11-03     0  \n",
       "1  El primer banco de Italia, que completó con éx...  2017-05-11     1  \n",
       "2  Ocupará el lugar del actual Yeti y con él, Sko...  2017-04-28     0  \n",
       "3  Bankia obtuvo un beneficio neto atribuido de 4...  2016-07-22     0  \n",
       "4  La rentabilidad media en sus bonos a tres años...  2016-05-19     0  "
      ]
     },
     "execution_count": 5,
     "metadata": {},
     "output_type": "execute_result"
    }
   ],
   "source": [
    "# Now let's print some of the first and last rows to see how the data looks like:\n",
    "## Train set\n",
    "trainSet.head(5)"
   ]
  },
  {
   "cell_type": "code",
   "execution_count": 6,
   "metadata": {},
   "outputs": [
    {
     "data": {
      "text/html": [
       "<div>\n",
       "<style scoped>\n",
       "    .dataframe tbody tr th:only-of-type {\n",
       "        vertical-align: middle;\n",
       "    }\n",
       "\n",
       "    .dataframe tbody tr th {\n",
       "        vertical-align: top;\n",
       "    }\n",
       "\n",
       "    .dataframe thead th {\n",
       "        text-align: right;\n",
       "    }\n",
       "</style>\n",
       "<table border=\"1\" class=\"dataframe\">\n",
       "  <thead>\n",
       "    <tr style=\"text-align: right;\">\n",
       "      <th></th>\n",
       "      <th>id</th>\n",
       "      <th>keywords</th>\n",
       "      <th>summary</th>\n",
       "      <th>title</th>\n",
       "      <th>text</th>\n",
       "      <th>date</th>\n",
       "    </tr>\n",
       "  </thead>\n",
       "  <tbody>\n",
       "    <tr>\n",
       "      <th>0</th>\n",
       "      <td>1</td>\n",
       "      <td>[despedir, se, administración, que, el, en, co...</td>\n",
       "      <td>La administración concursal de Unipost, que ge...</td>\n",
       "      <td>La administración concursal de Unipost empezar...</td>\n",
       "      <td>La empresa se cerrará a finales del mes de abr...</td>\n",
       "      <td>2018-02-26</td>\n",
       "    </tr>\n",
       "    <tr>\n",
       "      <th>1</th>\n",
       "      <td>2</td>\n",
       "      <td>[algo, superación, blogs, volver, últimos, tie...</td>\n",
       "      <td>La compañía española se mueve lenta pero consi...</td>\n",
       "      <td>Algo se mueve en Zardoya. Blogs de Bolságora</td>\n",
       "      <td>La compañía española se mueve lenta pero consi...</td>\n",
       "      <td>2018-01-29</td>\n",
       "    </tr>\n",
       "    <tr>\n",
       "      <th>2</th>\n",
       "      <td>3</td>\n",
       "      <td>[le, tras, viral, primera, trasplante, que, un...</td>\n",
       "      <td>Jennifer Jones, de 40 años, es una mujer estad...</td>\n",
       "      <td>Virales: Respira por primera vez tras un trasp...</td>\n",
       "      <td>Jennifer Jones, de 40 años, es una mujer estad...</td>\n",
       "      <td>2018-03-12</td>\n",
       "    </tr>\n",
       "    <tr>\n",
       "      <th>3</th>\n",
       "      <td>4</td>\n",
       "      <td>[necesario, y, compras, los, en, la, rebaja, q...</td>\n",
       "      <td>¿Qué supone esta decisión para la economía de ...</td>\n",
       "      <td>Las claves de la rebaja en las compras del BCE...</td>\n",
       "      <td>La economía de la zona euro ha alcanzado el pu...</td>\n",
       "      <td>2017-10-27</td>\n",
       "    </tr>\n",
       "    <tr>\n",
       "      <th>4</th>\n",
       "      <td>5</td>\n",
       "      <td>[presidente, como, blankfein, sus, schwartz, s...</td>\n",
       "      <td>Lloyd Bankfeild, consejero delegado de Goldman...</td>\n",
       "      <td>David Solomon se postula como el próximo presi...</td>\n",
       "      <td>Lloyd Bankfeild, consejero delegado de Goldman...</td>\n",
       "      <td>2018-03-12</td>\n",
       "    </tr>\n",
       "  </tbody>\n",
       "</table>\n",
       "</div>"
      ],
      "text/plain": [
       "   id                                           keywords  \\\n",
       "0   1  [despedir, se, administración, que, el, en, co...   \n",
       "1   2  [algo, superación, blogs, volver, últimos, tie...   \n",
       "2   3  [le, tras, viral, primera, trasplante, que, un...   \n",
       "3   4  [necesario, y, compras, los, en, la, rebaja, q...   \n",
       "4   5  [presidente, como, blankfein, sus, schwartz, s...   \n",
       "\n",
       "                                             summary  \\\n",
       "0  La administración concursal de Unipost, que ge...   \n",
       "1  La compañía española se mueve lenta pero consi...   \n",
       "2  Jennifer Jones, de 40 años, es una mujer estad...   \n",
       "3  ¿Qué supone esta decisión para la economía de ...   \n",
       "4  Lloyd Bankfeild, consejero delegado de Goldman...   \n",
       "\n",
       "                                               title  \\\n",
       "0  La administración concursal de Unipost empezar...   \n",
       "1       Algo se mueve en Zardoya. Blogs de Bolságora   \n",
       "2  Virales: Respira por primera vez tras un trasp...   \n",
       "3  Las claves de la rebaja en las compras del BCE...   \n",
       "4  David Solomon se postula como el próximo presi...   \n",
       "\n",
       "                                                text        date  \n",
       "0  La empresa se cerrará a finales del mes de abr...  2018-02-26  \n",
       "1  La compañía española se mueve lenta pero consi...  2018-01-29  \n",
       "2  Jennifer Jones, de 40 años, es una mujer estad...  2018-03-12  \n",
       "3  La economía de la zona euro ha alcanzado el pu...  2017-10-27  \n",
       "4  Lloyd Bankfeild, consejero delegado de Goldman...  2018-03-12  "
      ]
     },
     "execution_count": 6,
     "metadata": {},
     "output_type": "execute_result"
    }
   ],
   "source": [
    "## Test set\n",
    "testSet.head(5)"
   ]
  },
  {
   "cell_type": "markdown",
   "metadata": {},
   "source": [
    "### 3.2. Summary statistics"
   ]
  },
  {
   "cell_type": "markdown",
   "metadata": {},
   "source": [
    "First, we will need to filter out irrelevant words from the keywords list:"
   ]
  },
  {
   "cell_type": "code",
   "execution_count": 7,
   "metadata": {},
   "outputs": [],
   "source": [
    "# Statistical summaries through dataset.describe() are not useful, since the only numeric variables are id and flag.\n",
    "# Therefore, let's try to obtain some keyword frequencies as a first way to analyze the available information:\n",
    "\n",
    "# Set stop words:\n",
    "stopWords = list(stopwords.words('spanish'))\n",
    "\n",
    "# List comprehension for stopword filtering:\n",
    "trainKeywordList = []\n",
    "testKeywordList = []\n",
    "\n",
    "for instance in trainSet.keywords:\n",
    "    trainKeywordList.append([x for x in instance.replace(\"[\",\"\").replace(\"]\",\"\").replace(\",\",\"\").split(' ') if x not in stopWords])\n",
    "\n",
    "# Append new column to the trainSet\n",
    "#trainSet['KeywordList'] = pd.Series(trainKeywordList, index=trainSet.index)\n",
    "    \n",
    "for instance in testSet.keywords:\n",
    "    testKeywordList.append([x for x in instance.replace(\"[\",\"\").replace(\"]\",\"\").replace(\",\",\"\").split(' ') if x not in stopWords])\n",
    "    \n",
    "# Append new column to the testSet\n",
    "#testSet['KeywordList'] = pd.Series(testKeywordList, index=testSet.index)"
   ]
  },
  {
   "cell_type": "code",
   "execution_count": 9,
   "metadata": {},
   "outputs": [
    {
     "data": {
      "text/plain": [
       "'UniCredit duplica su beneficio en el primer trimestre, hasta los 907 millones de euros'"
      ]
     },
     "execution_count": 9,
     "metadata": {},
     "output_type": "execute_result"
    }
   ],
   "source": [
    "# We should also clean the titles and corpus of every article before analyzing them:\n",
    "# 1. Word tokenization for title and corpus in train and test:\n",
    "trainTitleToken = word_tokenize"
   ]
  },
  {
   "cell_type": "markdown",
   "metadata": {},
   "source": [
    "TODO:\n",
    "\n",
    "- Veces que ha aparecido keyword anteriormente (total) + Veces por artículo. OJO temporalidad: hacer varias ventanas (1 dia, 3 días, 1 semana, 2 semanas, 1 mes, 3 meses, 6 meses, 1 año)\n",
    "\n",
    "- Veces que ha aparecido keyword anteriormente en flag = 1 (total) + Veces por artículo. OJO temporalidad: hacer varias ventanas (1 dia, 3 días, 1 semana, 2 semanas, 1 mes, 3 meses, 6 meses, 1 año)"
   ]
  },
  {
   "cell_type": "markdown",
   "metadata": {},
   "source": [
    "Resources:\n",
    "\n",
    "- An introduction to text analysis in Python: https://www.digitalvidya.com/blog/an-introduction-to-text-analysis-in-python/\n",
    "- Ultimate guide to deal with Text Data (using Python) – for Data Scientists & Engineers: https://www.analyticsvidhya.com/blog/2018/02/the-different-methods-deal-text-data-predictive-python/\n",
    "- Online regex tester: https://regex101.com/"
   ]
  },
  {
   "cell_type": "code",
   "execution_count": null,
   "metadata": {},
   "outputs": [],
   "source": []
  }
 ],
 "metadata": {
  "kernelspec": {
   "display_name": "Python 3",
   "language": "python",
   "name": "python3"
  },
  "language_info": {
   "codemirror_mode": {
    "name": "ipython",
    "version": 3
   },
   "file_extension": ".py",
   "mimetype": "text/x-python",
   "name": "python",
   "nbconvert_exporter": "python",
   "pygments_lexer": "ipython3",
   "version": "3.6.4"
  }
 },
 "nbformat": 4,
 "nbformat_minor": 2
}
